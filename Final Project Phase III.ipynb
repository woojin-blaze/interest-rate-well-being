{
 "cells": [
  {
   "cell_type": "markdown",
   "metadata": {
    "id": "GJ4Xt1uf1LT7",
    "jp-MarkdownHeadingCollapsed": true
   },
   "source": [
    "# Final Project Phase 3 Summary\n",
    "This Jupyter Notebook (.ipynb) will serve as the skeleton file for your submission for Phase 3 of the Final Project. Complete all sections below as specified in the instructions for the project, covering all necessary details. We will use this to grade your individual code (Do this whether you are in a group or not). Good luck! <br><br>\n",
    "\n",
    "Note: To edit a Markdown cell, double-click on its text."
   ]
  },
  {
   "cell_type": "markdown",
   "metadata": {
    "id": "tjB_SbWY1LUB",
    "jp-MarkdownHeadingCollapsed": true
   },
   "source": [
    "## Jupyter Notebook Quick Tips\n",
    "Here are some quick formatting tips to get you started with Jupyter Notebooks. This is by no means exhaustive, and there are plenty of articles to highlight other things that can be done. We recommend using HTML syntax for Markdown but there is also Markdown syntax that is more streamlined and might be preferable. \n",
    "<a href = \"https://towardsdatascience.com/markdown-cells-jupyter-notebook-d3bea8416671\">Here's an article</a> that goes into more detail. (Double-click on cell to see syntax)\n",
    "\n",
    "# Heading 1\n",
    "## Heading 2\n",
    "### Heading 3\n",
    "#### Heading 4\n",
    "<br>\n",
    "<b>BoldText</b> or <i>ItalicText</i>\n",
    "<br> <br>\n",
    "Math Formulas: $x^2 + y^2 = 1$\n",
    "<br> <br>\n",
    "Line Breaks are done using br enclosed in < >.\n",
    "<br><br>\n",
    "Hyperlinks are done with: <a> https://www.google.com </a> or \n",
    "<a href=\"http://www.google.com\">Google</a><br>"
   ]
  },
  {
   "cell_type": "markdown",
   "metadata": {},
   "source": [
    "# Video Presentation\n",
    "\n",
    "If you uploaded your Video Presentation to Bluejeans, YouTube, or any other streaming services, please provide the link here:\n",
    "\n",
    "\n",
    "*   Video Presentation Link\n",
    "\n",
    "\n",
    "Make sure the video sharing permissions are accessible for anyone with the provided link."
   ]
  },
  {
   "cell_type": "markdown",
   "metadata": {
    "id": "tb9oVjpRDswQ"
   },
   "source": [
    "# Data Collection and Cleaning\n",
    "\n",
    "\n",
    "Transfer/update the data collection and cleaning you created for Phase II below. You may include additional cleaning functions if you have extra datasets. If no changes are necessary, simply copy and paste your phase II parsing/cleaning functions.\n",
    "\n"
   ]
  },
  {
   "cell_type": "markdown",
   "metadata": {
    "id": "9mRjxZDbE1tj"
   },
   "source": [
    "## Downloaded Dataset Requirement\n",
    "\n"
   ]
  },
  {
   "cell_type": "code",
   "execution_count": 11,
   "metadata": {},
   "outputs": [],
   "source": [
    "import json\n",
    "import requests\n",
    "import pprint\n",
    "import re\n",
    "import pandas as pd\n",
    "from bs4 import BeautifulSoup"
   ]
  },
  {
   "cell_type": "code",
   "execution_count": 13,
   "metadata": {
    "id": "0p5xxmqzFGrO"
   },
   "outputs": [
    {
     "name": "stdout",
     "output_type": "stream",
     "text": [
      "    Country  Year  Disposable_Income\n",
      "0       DEU  2004            36965.0\n",
      "1       DEU  2005            37285.0\n",
      "2       DEU  2006            37745.0\n",
      "3       DEU  2007            37893.0\n",
      "4       DEU  2008            38311.0\n",
      "..      ...   ...                ...\n",
      "607     SWE  2018            38632.0\n",
      "608     SWE  2019            38821.0\n",
      "609     SWE  2020            38166.0\n",
      "610     SWE  2021            39404.0\n",
      "611     SWE  2022            39048.0\n",
      "\n",
      "[612 rows x 3 columns]\n"
     ]
    }
   ],
   "source": [
    "def data_parser():\n",
    "  df = pd.read_csv(\"unfiltered_oecd_data.csv\")\n",
    "  disposable_income = data_select(df, \"1_1\")\n",
    "  disposable_income = cleaning_sub_table(disposable_income, \"Disposable_Income\")\n",
    "  disposable_income.to_csv(\"disposable_income.csv\", index = False)\n",
    "  pprint.pprint(disposable_income)\n",
    "\n",
    "def data_select(df, data_category):\n",
    "  df = df.loc[(df[\"MEASURE\"] == data_category) & (df[\"AGE\"] == \"_T\") & (df[\"SEX\"]==\"_T\") &(df[\"EDUCATION_LEV\"]==\"_T\"),[\"REF_AREA\", \"UNIT_MEASURE\", \"TIME_PERIOD\", \"OBS_VALUE\", \"OBS_STATUS\", \"DECIMALS\", \"BASE_PER\"]] \n",
    "  return df\n",
    "\n",
    "def cleaning_sub_table(data, measure):\n",
    "    data = data.loc[:, [\"REF_AREA\",\"TIME_PERIOD\", \"OBS_VALUE\"]]\n",
    "    data = data.reset_index(drop=True)\n",
    "    data = data.rename(columns= {\"OBS_VALUE\":measure, \"REF_AREA\":\"Country\", \"TIME_PERIOD\": \"Year\"})\n",
    "    return data\n",
    "\n",
    "\n",
    "\n",
    "############ Function Call ############\n",
    "data_parser()"
   ]
  },
  {
   "cell_type": "markdown",
   "metadata": {
    "id": "794L4vGXFdYw"
   },
   "source": [
    "## Web Collection Requirement \\#1\n"
   ]
  },
  {
   "cell_type": "code",
   "execution_count": 16,
   "metadata": {
    "id": "vXwpJObDFiWM"
   },
   "outputs": [
    {
     "name": "stdout",
     "output_type": "stream",
     "text": [
      "    Rank      Country or territory HDI value  %annual growth(2010–2022)\n",
      "0      1               Switzerland     0.967                     0.0024\n",
      "1      2                    Norway     0.966                     0.0025\n",
      "2      3                   Iceland     0.959                     0.0028\n",
      "3      4                 Hong Kong     0.956                     0.0038\n",
      "4      5                   Denmark     0.952                     0.0035\n",
      "..   ...                       ...       ...                        ...\n",
      "161  188                      Mali     0.410                     0.0008\n",
      "162  189                     Niger     0.394                     0.0134\n",
      "163  191  Central African Republic     0.387                     0.0067\n",
      "164  192               South Sudan     0.381                     0.0053\n",
      "165  193                   Somalia     0.380                     0.0000\n",
      "\n",
      "[166 rows x 4 columns]\n"
     ]
    }
   ],
   "source": [
    "def web_parser1():\n",
    "    url = 'https://en.wikipedia.org/wiki/List_of_countries_by_Human_Development_Index'\n",
    "    df = collect_data(url)\n",
    "    cleaned_df = clean_data(df)\n",
    "    export_data(cleaned_df)\n",
    "\n",
    "\n",
    "# Function to collect table data\n",
    "def collect_data(url):\n",
    "    response = requests.get(url)\n",
    "    soup = BeautifulSoup(response.text, 'html.parser')\n",
    "    tables = soup.find_all(\"table\", {\"class\": \"wikitable\"})\n",
    "    second_table = tables[1]\n",
    "\n",
    "    header_cells = second_table.find_all(\"th\")\n",
    "    headers = [header_cells[i].text.strip() for i in range(min(5, len(header_cells)))]\n",
    "\n",
    "\n",
    "    rows = []\n",
    "    for row in second_table.find_all(\"tr\"):\n",
    "        cells = row.find_all([\"th\", \"td\"])  \n",
    "        cell_data = [cell.get_text(strip=True) for cell in cells]\n",
    "        if len(cell_data) >= 5 and cell_data[0] != \"Rank\":\n",
    "            rows.append(cell_data)\n",
    "            \n",
    "    df = pd.DataFrame(rows, columns=headers)\n",
    "    return df\n",
    "\n",
    "def clean_data(df):\n",
    "    df = df.drop(columns=[\"Δ\"], axis=1)\n",
    "\n",
    "    percent_columns = df.columns[df.columns.str.contains(\"%\")]\n",
    "    \n",
    "    for col in percent_columns:\n",
    "        df[col] = df[col].replace({\"%\": \"\", r\"NA\\[[a-c]\\]\": \"0\"}, regex=True)\n",
    "        df[col] = df[col].astype(float) / 100\n",
    "    return df\n",
    "def export_data(df):\n",
    "    df.to_csv(\"HDI_cleaned.csv\", index=False)\n",
    "    pprint.pprint(df)\n",
    "\n",
    "\n",
    "############ Function Call ############\n",
    "web_parser1()"
   ]
  },
  {
   "cell_type": "markdown",
   "metadata": {
    "id": "OTRqdBG6sSvu"
   },
   "source": [
    "## Web Collection Requirement #2"
   ]
  },
  {
   "cell_type": "code",
   "execution_count": 19,
   "metadata": {
    "id": "YtV_MYeusYDd"
   },
   "outputs": [
    {
     "name": "stdout",
     "output_type": "stream",
     "text": [
      "      Country     Date  Total Asset\n",
      "0          NZ  2000-01         4.80\n",
      "1          NZ  2000-02         4.21\n",
      "2          NZ  2000-03         4.94\n",
      "3          NZ  2000-04         5.05\n",
      "4          NZ  2000-05         5.12\n",
      "...       ...      ...          ...\n",
      "14963      US  2024-06      7231.16\n",
      "14964      US  2024-07      7178.39\n",
      "14965      US  2024-08      7123.24\n",
      "14966      US  2024-09      7080.06\n",
      "14967      US  2024-10      7013.49\n",
      "\n",
      "[14957 rows x 3 columns]\n"
     ]
    }
   ],
   "source": [
    "def web_parser2():\n",
    "  urls = [\"https://stats.bis.org/api/v2/data/dataflow/BIS/WS_CBTA/1.0/M.AE+AR+AT+AU+BE+BR+CA+CH+CL+CN+CZ+DE+DK+EE+ES+FI+FR+GB+GR+HK+HR+HU+ID+IE+IL+IN+IT+JP+KR+LT+LU+LV+MK+MX+MY+NL+NO+NZ+PE+PH+PL+PT+SA+SE+SG+SI+SK+TH+TR+US+XM+ZA..USD?startPeriod=2000-01-01&endPeriod=2024-10-01&format=sdmx-json\",\n",
    "        \"https://stats.bis.org/api/v2/data/dataflow/BIS/WS_CBTA/1.0/M.US..XDC..B?startPeriod=2000-01-01&endPeriod=2024-10-01&format=sdmx-json\"]\n",
    "\n",
    "  data = [json.loads(requests.get(url).content) for url in urls]\n",
    "  country_abbv = get_country_abbv(data)\n",
    "  country_list = get_countries(country_abbv)\n",
    "  total_asset_dict = get_total_asset(data, country_list)\n",
    "  df = match_total_asset_date(total_asset_dict)\n",
    "  df = clean_null(df)\n",
    "  df.to_csv('total_assets_monthly.csv', index=False)\n",
    "  pprint.pprint(df)\n",
    "  \n",
    "def get_country_abbv(data):\n",
    "  country_abbv = []\n",
    "  for i, val in enumerate(data):\n",
    "    for item in data[i][\"data\"][\"structure\"][\"dimensions\"][\"series\"][1]['values']:\n",
    "        country_abbv.append(item)\n",
    "  return country_abbv\n",
    "\n",
    "def get_countries(country_abbv):\n",
    "  country_list = []\n",
    "  for item in country_abbv: \n",
    "      country_list.append(item[\"id\"])\n",
    "  return country_list\n",
    "\n",
    "def get_total_asset(data, country_list):\n",
    "  new_list = []\n",
    "  for i, val in enumerate(data):\n",
    "      for key, value in data[i][\"data\"][\"dataSets\"][0][\"series\"].items():\n",
    "          alist = []\n",
    "          for k, val in value[\"observations\"].items():\n",
    "              alist.append(val[0])\n",
    "          new_list.append(alist)\n",
    "  total_asset_dict = dict(zip(country_list, new_list))\n",
    "  return total_asset_dict\n",
    "\n",
    "def match_total_asset_date(total_asset_dict):\n",
    "  dates = pd.date_range(start=\"2000-01\", end=\"2024-10\", freq='MS') \n",
    "  rows = []\n",
    "  for country, values in total_asset_dict.items():\n",
    "      for date, value in zip(dates, values):\n",
    "          rows.append({'Country': country, 'Date': date.strftime(\"%Y-%m\"), 'Total Asset': round(float(value), 2)})\n",
    "\n",
    "  df = pd.DataFrame(rows)\n",
    "  return df\n",
    "\n",
    "def clean_null(df):\n",
    "  df[df.isnull().any(axis=1)]\n",
    "  df = df.dropna()\n",
    "  return df\n",
    "\n",
    "        \n",
    "############ Function Call ############\n",
    "web_parser2()"
   ]
  },
  {
   "cell_type": "markdown",
   "metadata": {},
   "source": [
    "## Additional Dataset Parsing/Cleaning Functions\n",
    "\n",
    "Write any supplemental (optional) functions here."
   ]
  },
  {
   "cell_type": "code",
   "execution_count": 22,
   "metadata": {},
   "outputs": [
    {
     "name": "stdout",
     "output_type": "stream",
     "text": [
      "      Country     Date  Interest Rate\n",
      "0          RU  2000-01          45.00\n",
      "1          RU  2000-02          45.00\n",
      "2          RU  2000-03          33.00\n",
      "3          RU  2000-04          33.00\n",
      "4          RU  2000-05          33.00\n",
      "...       ...      ...            ...\n",
      "11300      MX  2024-06          11.00\n",
      "11301      MX  2024-07          11.00\n",
      "11302      MX  2024-08          10.75\n",
      "11303      MX  2024-09          10.50\n",
      "11304      MX  2024-10          10.50\n",
      "\n",
      "[11252 rows x 3 columns]\n"
     ]
    }
   ],
   "source": [
    "def extra_source1():\n",
    "  urls = [\"https://stats.bis.org/api/v2/data/dataflow/BIS/WS_CBPOL/1.0/M.AR+AU+BR+CA+CH+CL+CN+CO+CZ+DK+GB+HK+HR+HU+ID+IL+IN+IS+JP+KR+MA+MK+MX+MY+NO+NZ+PE+PH+PL+RO+RS+RU+SA+SE+TH+TR+US+XM+ZA?startPeriod=2000-01-01&endPeriod=2024-10-01&format=sdmx-json\"]\n",
    "  data = [json.loads(requests.get(url).content) for url in urls]\n",
    "  country_abbv = get_country_abbv(data)\n",
    "  country_list = get_countries(country_abbv)\n",
    "  interest_rate_dict = get_interest_rate(data, country_list)\n",
    "  df = match_interest_rate_date(interest_rate_dict)\n",
    "  df = clean_null(df)\n",
    "  df.to_csv('interest_rate_monthly.csv', index=False)\n",
    "  pprint.pprint(df)\n",
    "  \n",
    "def get_country_abbv(data):\n",
    "  country_abbv = []\n",
    "  for i, val in enumerate(data):\n",
    "    for item in data[i][\"data\"][\"structure\"][\"dimensions\"][\"series\"][1]['values']:\n",
    "        country_abbv.append(item)\n",
    "  return country_abbv\n",
    "\n",
    "def get_countries(country_abbv):\n",
    "  country_list = []\n",
    "  for item in country_abbv: \n",
    "      country_list.append(item[\"id\"])\n",
    "  return country_list\n",
    "\n",
    "def get_interest_rate(data, country_list):\n",
    "  new_list = []\n",
    "  for i, val in enumerate(data):\n",
    "      for key, value in data[i][\"data\"][\"dataSets\"][0][\"series\"].items():\n",
    "          alist = []\n",
    "          for k, val in value[\"observations\"].items():\n",
    "              alist.append(val[0])\n",
    "          new_list.append(alist)\n",
    "  interest_rate_dict = dict(zip(country_list, new_list))\n",
    "  return interest_rate_dict\n",
    "\n",
    "def match_interest_rate_date(nterest_rate_dict):\n",
    "  dates = pd.date_range(start=\"2000-01\", end=\"2024-10\", freq='MS') \n",
    "  rows = []\n",
    "  for country, values in nterest_rate_dict.items():\n",
    "      for date, value in zip(dates, values):\n",
    "          rows.append({'Country': country, 'Date': date.strftime(\"%Y-%m\"), 'Interest Rate': round(float(value), 3)})\n",
    "\n",
    "  df = pd.DataFrame(rows)\n",
    "  return df\n",
    "\n",
    "def clean_null(df):\n",
    "  df[df.isnull().any(axis=1)]\n",
    "  df = df.dropna()\n",
    "  return df\n",
    "    \n",
    "############ Function Call ############\n",
    "extra_source1()"
   ]
  },
  {
   "cell_type": "markdown",
   "metadata": {
    "id": "E5IgIeLI9Kw2"
   },
   "source": [
    "#Inconsistency Revisions\n",
    " **If you were requested to revise your inconsistency section from Phase II, enter your responses here. Otherwise, ignore this section.**\n",
    "\n",
    "For each inconsistency (NaN, null, duplicate values, empty strings, etc.) you discover in your datasets, write at least 2 sentences stating the significance, how you identified it, and how you handled it.\n",
    "\n",
    "1. IGNORED\n",
    "\n",
    "2. IGNORED\n",
    "\n",
    "3. IGNORED\n",
    "\n",
    "4. (if applicable)\n",
    "\n",
    "5. (if applicable)\n"
   ]
  },
  {
   "cell_type": "markdown",
   "metadata": {
    "id": "8SQxJGDUs1gw"
   },
   "source": [
    "## Data Sources\n",
    "Include sources (as links) to your datasets. Add any additional data sources if needed. Clearly indicate if a data source is different from one submitted in your Phase I, as we will check that it satisfies the requirements.\n",
    "*   Downloaded Dataset Source: https://data-explorer.oecd.org/vis?tm=wealth&pg=0&snb=160&df[ds]=dsDisseminateFinalDMZ&df[id]=DSD_HSL%40DF_HSL_CWB&df[ag]=OECD.WISE.WDP&df[vs]=1.0&dq=..._T._T._T.&pd=2004%2C2024&to[TIME_PERIOD]=false\n",
    "*   Web Collection #1 Source (DIFFERENT FROM ONE SUBMITTED IN PHASE 1): https://en.wikipedia.org/wiki/List_of_countries_by_Human_Development_Index#cite_note-olddata-19\n",
    "*   Web Collection #2 Source(JSON API): https://stats.bis.org/api/v2/data/dataflow/BIS/WS_CBPOL/1.0/M.AR+AU+BR+CA+CH+CL+CN+CO+CZ+DK+GB+HK+HR+HU+ID+IL+IN+IS+JP+KR+MA+MK+MX+MY+NO+NZ+PE+PH+PL+RO+RS+RU+SA+SE+TH+TR+US+XM+ZA?startPeriod=1990-01-01&endPeriod=2024-10-31&format=sdmx-json\n",
    "*   Web Collection #3 Source(JSON API): https://stats.bis.org/api/v2/data/dataflow/BIS/WS_CBTA/1.0/M.AE+AR+AT+AU+BE+BR+CA+CH+CL+CN+CZ+DE+DK+EE+ES+FI+FR+GB+GR+HK+HR+HU+ID+IE+IL+IN+IT+JP+KR+LT+LU+LV+MK+MX+MY+NL+NO+NZ+PE+PH+PL+PT+SA+SE+SG+SI+SK+TH+TR+US+XM+ZA..USD?startPeriod=1990-01-01&endPeriod=2024-10-30&format=sdmx-json , https://stats.bis.org/api/v2/data/dataflow/BIS/WS_CBTA/1.0/M.US..XDC..B?startPeriod=1990-01-01&endPeriod=2024-10-31&format=sdmx-json\n",
    "\n",
    "\n"
   ]
  },
  {
   "cell_type": "markdown",
   "metadata": {
    "id": "A-CWo6kwvFvS"
   },
   "source": [
    "# Data Analysis\n",
    "For the Data Analysis section, you are required to utilize your data to complete the following:\n",
    "\n",
    "*   Create at least 5 insights\n",
    "*   Generate at least 3 data visualizations\n",
    "\n",
    "Create a function for each of the following sections mentioned above. Do not forget to fill out the explanation section for each function. \n",
    "\n",
    "Make sure your data analysis is not too simple. Performing complex aggregation and using modules not taught in class shows effort, which will increase the chance of receiving full credit. "
   ]
  },
  {
   "cell_type": "markdown",
   "metadata": {
    "id": "7GzggCBoxwGA"
   },
   "source": [
    "# Topic Summary\n",
    "\n",
    "Please provide a brief executive summary (5 sentences or less) discussing your topic:"
   ]
  },
  {
   "cell_type": "markdown",
   "metadata": {
    "id": "VWv36q-Owkbi"
   },
   "source": [
    "## Insights"
   ]
  },
  {
   "cell_type": "code",
   "execution_count": null,
   "metadata": {
    "id": "0J5Z3M84wmaY"
   },
   "outputs": [],
   "source": [
    "def insight1():\n",
    "  pass\n",
    "\n",
    "\n",
    "\n",
    "\n",
    "\n",
    "############ Function Call ############\n",
    "insight1()"
   ]
  },
  {
   "cell_type": "markdown",
   "metadata": {
    "id": "54oggrpbw6TX"
   },
   "source": [
    "### Insight 1 Explanation\n",
    "\n",
    "Insert explanation here"
   ]
  },
  {
   "cell_type": "code",
   "execution_count": null,
   "metadata": {
    "id": "mJe4pMRgwuC5"
   },
   "outputs": [],
   "source": [
    "def insight2():\n",
    "  pass\n",
    "\n",
    "\n",
    "\n",
    "\n",
    "\n",
    "############ Function Call ############\n",
    "insight2()"
   ]
  },
  {
   "cell_type": "markdown",
   "metadata": {
    "id": "P08Se47bxG5d"
   },
   "source": [
    "### Insight 2 Explanation\n",
    "\n",
    "Insert explanation here"
   ]
  },
  {
   "cell_type": "code",
   "execution_count": 59,
   "metadata": {
    "id": "00EurEXJwvxf"
   },
   "outputs": [
    {
     "name": "stdout",
     "output_type": "stream",
     "text": [
      "Correlation between HDI and Average Disposable Income (2010–2022): 0.7702\n"
     ]
    }
   ],
   "source": [
    "import pycountry\n",
    "\n",
    "def insight3():\n",
    "    hdi_df = pd.read_csv(\"HDI_cleaned.csv\")\n",
    "    disposable_income_df = pd.read_csv(\"disposable_income.csv\")\n",
    "\n",
    "    disposable_income_df = disposable_income_df[(disposable_income_df['Year'] >= 2010) & (disposable_income_df['Year'] <= 2022)]\n",
    "    avg_disposable_income_df = disposable_income_df.groupby(\"Country\", as_index=False)['Disposable_Income'].mean()\n",
    "    avg_disposable_income_df.rename(columns={\"Disposable_Income\": \"Avg_Disposable_Income\"}, inplace=True)\n",
    "\n",
    "    hdi_df[\"Country_Code\"] = hdi_df[\"Country or territory\"].apply(get_country_code)\n",
    "\n",
    "    merged_df = pd.merge(hdi_df, avg_disposable_income_df, left_on=\"Country_Code\", right_on=\"Country\", how=\"inner\")\n",
    "    correlation = merged_df[\"HDI value\"].corr(merged_df[\"Avg_Disposable_Income\"])\n",
    "    \n",
    "    print(f\"Correlation between HDI and Average Disposable Income (2010–2022): {correlation:.4f}\")\n",
    "\n",
    "def get_country_code(name):\n",
    "    try:\n",
    "        return pycountry.countries.lookup(name).alpha_3\n",
    "    except LookupError:\n",
    "        return None\n",
    "\n",
    "############ Function Call ############\n",
    "insight3()"
   ]
  },
  {
   "cell_type": "markdown",
   "metadata": {
    "id": "6QNP4yx2xHkT"
   },
   "source": [
    "### Insight 3 Explanation\n",
    "\n",
    "Insert explanation here"
   ]
  },
  {
   "cell_type": "code",
   "execution_count": 67,
   "metadata": {
    "id": "LUWgj50BwwKN"
   },
   "outputs": [
    {
     "name": "stdout",
     "output_type": "stream",
     "text": [
      "Top 5 Countries by HDI Annual Growth:\n",
      " Rank Country or territory  HDI value  %annual growth(2010–2022)\n",
      "  122                Nauru      0.696                     0.0184\n",
      "  158                Haiti      0.552                     0.0174\n",
      "  142             Eswatini      0.610                     0.0170\n",
      "  171             Djibouti      0.515                     0.0167\n",
      "  176             Ethiopia      0.492                     0.0155\n",
      "\n",
      "Bottom 5 Countries by HDI Annual Growth:\n",
      " Rank Country or territory  HDI value  %annual growth(2010–2022)\n",
      "  193              Somalia      0.380                     0.0000\n",
      "  102     Marshall Islands      0.731                     0.0000\n",
      "  116                Samoa      0.702                     0.0002\n",
      "  115              Jamaica      0.706                     0.0006\n",
      "   97             Dominica      0.740                     0.0006\n"
     ]
    }
   ],
   "source": [
    "def insight4():\n",
    "    hdi_df = pd.read_csv(\"HDI_cleaned.csv\")\n",
    "    sorted_hdi_desc = hdi_df.sort_values(by=\"%annual growth(2010–2022)\", ascending=False)\n",
    "    \n",
    "    sorted_hdi_asc = hdi_df.sort_values(by=\"%annual growth(2010–2022)\", ascending=True)\n",
    "    \n",
    "    top_5_hdi = sorted_hdi_desc.head(5)\n",
    "    print(\"Top 5 Countries by HDI Annual Growth:\")\n",
    "    print(top_5_hdi.to_string(index=False))\n",
    "    \n",
    "    bottom_5_hdi = sorted_hdi_asc.head(5)\n",
    "    print(\"\\nBottom 5 Countries by HDI Annual Growth:\")\n",
    "    print(bottom_5_hdi.to_string(index=False))\n",
    "\n",
    "\n",
    "############ Function Call ############\n",
    "insight4()"
   ]
  },
  {
   "cell_type": "markdown",
   "metadata": {
    "id": "4Tv4xPG8xIIh"
   },
   "source": [
    "### Insight 4 Explanation\n",
    "\n",
    "Insert explanation here"
   ]
  },
  {
   "cell_type": "code",
   "execution_count": 70,
   "metadata": {
    "id": "-2YUtUESwwgv"
   },
   "outputs": [
    {
     "ename": "IndentationError",
     "evalue": "expected an indented block after function definition on line 1 (3031878938.py, line 6)",
     "output_type": "error",
     "traceback": [
      "\u001b[1;36m  Cell \u001b[1;32mIn[70], line 6\u001b[1;36m\u001b[0m\n\u001b[1;33m    insight5()\u001b[0m\n\u001b[1;37m    ^\u001b[0m\n\u001b[1;31mIndentationError\u001b[0m\u001b[1;31m:\u001b[0m expected an indented block after function definition on line 1\n"
     ]
    }
   ],
   "source": [
    "def insight5():\n",
    "    pass\n",
    "\n",
    "    \n",
    "############ Function Call ############\n",
    "insight5()"
   ]
  },
  {
   "cell_type": "markdown",
   "metadata": {
    "id": "JabcFGP9xIyn"
   },
   "source": [
    "### Insight 5 Explanation\n",
    "\n",
    "Insert explanation here"
   ]
  },
  {
   "cell_type": "markdown",
   "metadata": {
    "id": "xN58r5MNxN4m"
   },
   "source": [
    "## Data Visualizations"
   ]
  },
  {
   "cell_type": "code",
   "execution_count": null,
   "metadata": {
    "id": "stKXZGSnxS0f"
   },
   "outputs": [],
   "source": [
    "def visual1():\n",
    "  pass\n",
    "\n",
    "\n",
    "\n",
    "\n",
    "\n",
    "############ Function Call ############\n",
    "visual1()"
   ]
  },
  {
   "cell_type": "markdown",
   "metadata": {
    "id": "-CDB8hXwxgSB"
   },
   "source": [
    "### Visualization 1 Explanation\n",
    "\n",
    "Insert explanation here"
   ]
  },
  {
   "cell_type": "code",
   "execution_count": null,
   "metadata": {
    "id": "vACib_mBxW0E"
   },
   "outputs": [],
   "source": [
    "def visual2():\n",
    "  pass\n",
    "\n",
    "\n",
    "\n",
    "\n",
    "\n",
    "############ Function Call ############\n",
    "visual2()"
   ]
  },
  {
   "cell_type": "markdown",
   "metadata": {
    "id": "hbq6zDSuxg3b"
   },
   "source": [
    "### Visualization 2 Explanation\n",
    "\n",
    "Insert explanation here"
   ]
  },
  {
   "cell_type": "code",
   "execution_count": null,
   "metadata": {
    "id": "mOyKClx1xXOt"
   },
   "outputs": [],
   "source": [
    "def visual3():\n",
    "  pass\n",
    "\n",
    "\n",
    "\n",
    "\n",
    "\n",
    "############ Function Call ############\n",
    "visual3()"
   ]
  },
  {
   "cell_type": "markdown",
   "metadata": {
    "id": "YLZvX6Plxhhs"
   },
   "source": [
    "### Visualization 3 Explanation\n",
    "\n",
    "Insert explanation here"
   ]
  },
  {
   "cell_type": "markdown",
   "metadata": {
    "id": "kd74HqEPx8zh"
   },
   "source": [
    "# Cited Sources\n",
    "\n",
    "If you used any additional sources to complete your Data Analysis section, list them here:\n",
    "\n",
    "\n",
    "*   Example Module Documentation\n",
    "*   Example Stack Overflow Assistance\n",
    "\n"
   ]
  },
  {
   "cell_type": "markdown",
   "metadata": {
    "id": "iuYbFQplyXK2"
   },
   "source": [
    "# Graphical User Interface (GUI) Implementation\n",
    "If you decide to create a GUI for Phase II, please create a separate Python file (.py) to build your GUI. You must submit both the completed PhaseII.ipynb and your Python GUI file."
   ]
  },
  {
   "cell_type": "markdown",
   "metadata": {
    "id": "mZENd-i9cinj"
   },
   "source": [
    "# Submission\n",
    "\n",
    "Prior to submitting your notebook to Gradescope, be sure to <b>run all functions within this file</b>. We will not run your functions ourselves, so we must see your outputs within this file in order to receive full credit.\n"
   ]
  }
 ],
 "metadata": {
  "colab": {
   "collapsed_sections": [],
   "name": "PhaseIII.ipynb",
   "provenance": []
  },
  "kernelspec": {
   "display_name": "Python 3 (ipykernel)",
   "language": "python",
   "name": "python3"
  },
  "language_info": {
   "codemirror_mode": {
    "name": "ipython",
    "version": 3
   },
   "file_extension": ".py",
   "mimetype": "text/x-python",
   "name": "python",
   "nbconvert_exporter": "python",
   "pygments_lexer": "ipython3",
   "version": "3.12.4"
  }
 },
 "nbformat": 4,
 "nbformat_minor": 4
}
