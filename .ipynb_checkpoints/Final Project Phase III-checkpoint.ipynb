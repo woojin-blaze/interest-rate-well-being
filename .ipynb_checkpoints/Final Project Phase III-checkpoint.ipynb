{
 "cells": [
  {
   "cell_type": "markdown",
   "metadata": {
    "id": "GJ4Xt1uf1LT7"
   },
   "source": [
    "# Final Project Phase 3 Summary\n",
    "This Jupyter Notebook (.ipynb) will serve as the skeleton file for your submission for Phase 3 of the Final Project. Complete all sections below as specified in the instructions for the project, covering all necessary details. We will use this to grade your individual code (Do this whether you are in a group or not). Good luck! <br><br>\n",
    "\n",
    "Note: To edit a Markdown cell, double-click on its text."
   ]
  },
  {
   "cell_type": "markdown",
   "metadata": {
    "id": "JEtNzYHagmon"
   },
   "source": []
  },
  {
   "cell_type": "markdown",
   "metadata": {
    "id": "tjB_SbWY1LUB"
   },
   "source": [
    "## Jupyter Notebook Quick Tips\n",
    "Here are some quick formatting tips to get you started with Jupyter Notebooks. This is by no means exhaustive, and there are plenty of articles to highlight other things that can be done. We recommend using HTML syntax for Markdown but there is also Markdown syntax that is more streamlined and might be preferable. \n",
    "<a href = \"https://towardsdatascience.com/markdown-cells-jupyter-notebook-d3bea8416671\">Here's an article</a> that goes into more detail. (Double-click on cell to see syntax)\n",
    "\n",
    "# Heading 1\n",
    "## Heading 2\n",
    "### Heading 3\n",
    "#### Heading 4\n",
    "<br>\n",
    "<b>BoldText</b> or <i>ItalicText</i>\n",
    "<br> <br>\n",
    "Math Formulas: $x^2 + y^2 = 1$\n",
    "<br> <br>\n",
    "Line Breaks are done using br enclosed in < >.\n",
    "<br><br>\n",
    "Hyperlinks are done with: <a> https://www.google.com </a> or \n",
    "<a href=\"http://www.google.com\">Google</a><br>"
   ]
  },
  {
   "cell_type": "markdown",
   "metadata": {},
   "source": [
    "# Video Presentation\n",
    "\n",
    "If you uploaded your Video Presentation to Bluejeans, YouTube, or any other streaming services, please provide the link here:\n",
    "\n",
    "\n",
    "*   Video Presentation Link\n",
    "\n",
    "\n",
    "Make sure the video sharing permissions are accessible for anyone with the provided link."
   ]
  },
  {
   "cell_type": "markdown",
   "metadata": {
    "id": "tb9oVjpRDswQ"
   },
   "source": [
    "# Data Collection and Cleaning\n",
    "\n",
    "\n",
    "Transfer/update the data collection and cleaning you created for Phase II below. You may include additional cleaning functions if you have extra datasets. If no changes are necessary, simply copy and paste your phase II parsing/cleaning functions.\n"
   ]
  },
  {
   "cell_type": "markdown",
   "metadata": {
    "id": "9mRjxZDbE1tj"
   },
   "source": [
    "## Downloaded Dataset Requirement\n",
    "\n"
   ]
  },
  {
   "cell_type": "code",
   "execution_count": null,
   "metadata": {
    "id": "0p5xxmqzFGrO"
   },
   "outputs": [],
   "source": [
    "def data_parser():\n",
    "  pass\n",
    "\n",
    "\n",
    "\n",
    "\n",
    "############ Function Call ############\n",
    "data_parser()"
   ]
  },
  {
   "cell_type": "markdown",
   "metadata": {
    "id": "794L4vGXFdYw"
   },
   "source": [
    "## Web Collection Requirement \\#1\n"
   ]
  },
  {
   "cell_type": "code",
   "execution_count": null,
   "metadata": {
    "id": "vXwpJObDFiWM"
   },
   "outputs": [],
   "source": [
    "def web_parser1():\n",
    "  pass\n",
    "\n",
    "\n",
    "\n",
    "\n",
    "\n",
    "############ Function Call ############\n",
    "web_parser1()"
   ]
  },
  {
   "cell_type": "markdown",
   "metadata": {
    "id": "OTRqdBG6sSvu"
   },
   "source": [
    "## Web Collection Requirement #2"
   ]
  },
  {
   "cell_type": "code",
   "execution_count": null,
   "metadata": {
    "id": "YtV_MYeusYDd"
   },
   "outputs": [],
   "source": [
    "def web_parser2():\n",
    "  pass\n",
    "\n",
    "\n",
    "\n",
    "\n",
    "\n",
    "############ Function Call ############\n",
    "web_parser2()"
   ]
  },
  {
   "cell_type": "markdown",
   "metadata": {
    "id": "E5IgIeLI9Kw2"
   },
   "source": [
    "#Inconsistency Revisions\n",
    " **If you were requested to revise your inconsistency section from Phase II, enter your responses here. Otherwise, ignore this section.**\n",
    "\n",
    "For each inconsistency (NaN, null, duplicate values, empty strings, etc.) you discover in your datasets, write at least 2 sentences stating the significance, how you identified it, and how you handled it.\n",
    "\n",
    "1. \n",
    "\n",
    "2. \n",
    "\n",
    "3. \n",
    "\n",
    "4. (if applicable)\n",
    "\n",
    "5. (if applicable)\n"
   ]
  },
  {
   "cell_type": "markdown",
   "metadata": {
    "id": "8SQxJGDUs1gw"
   },
   "source": [
    "## Data Sources\n",
    "\n",
    "Include sources (as links) to your datasets. If any of these are different from your sources used in Phase II, please <b>clearly</b> specify.\n",
    "\n",
    "*   Downloaded Dataset Source:\n",
    "*   Web Collection #1 Source:\n",
    "*   Web Collection #2 Source:\n",
    "\n"
   ]
  },
  {
   "cell_type": "markdown",
   "metadata": {
    "id": "A-CWo6kwvFvS"
   },
   "source": [
    "# Data Analysis\n",
    "For the Data Analysis section, you are required to utilize your data to complete the following:\n",
    "\n",
    "*   Create at least 5 insights\n",
    "*   Generate at least 3 data visualizations\n",
    "\n",
    "Create a function for each of the following sections mentioned above. Do not forget to fill out the explanation section for each function. \n",
    "\n",
    "Make sure your data analysis is not too simple. Performing complex aggregation and using modules not taught in class shows effort, which will increase the chance of receiving full credit. "
   ]
  },
  {
   "cell_type": "markdown",
   "metadata": {
    "id": "7GzggCBoxwGA"
   },
   "source": [
    "# Topic Summary\n",
    "\n",
    "Please provide a brief executive summary (5 sentences or less) discussing your topic:"
   ]
  },
  {
   "cell_type": "markdown",
   "metadata": {
    "id": "VWv36q-Owkbi"
   },
   "source": [
    "## Insights"
   ]
  },
  {
   "cell_type": "code",
   "execution_count": null,
   "metadata": {
    "id": "0J5Z3M84wmaY"
   },
   "outputs": [],
   "source": [
    "def insight1():\n",
    "  pass\n",
    "\n",
    "\n",
    "\n",
    "\n",
    "\n",
    "############ Function Call ############\n",
    "insight1()"
   ]
  },
  {
   "cell_type": "markdown",
   "metadata": {
    "id": "54oggrpbw6TX"
   },
   "source": [
    "### Insight 1 Explanation\n",
    "\n",
    "Insert explanation here"
   ]
  },
  {
   "cell_type": "code",
   "execution_count": null,
   "metadata": {
    "id": "mJe4pMRgwuC5"
   },
   "outputs": [],
   "source": [
    "def insight2():\n",
    "  pass\n",
    "\n",
    "\n",
    "\n",
    "\n",
    "\n",
    "############ Function Call ############\n",
    "insight2()"
   ]
  },
  {
   "cell_type": "markdown",
   "metadata": {
    "id": "P08Se47bxG5d"
   },
   "source": [
    "### Insight 2 Explanation\n",
    "\n",
    "Insert explanation here"
   ]
  },
  {
   "cell_type": "code",
   "execution_count": null,
   "metadata": {
    "id": "00EurEXJwvxf"
   },
   "outputs": [],
   "source": [
    "def insight3():\n",
    "  pass\n",
    "\n",
    "\n",
    "\n",
    "\n",
    "\n",
    "############ Function Call ############\n",
    "insight3()"
   ]
  },
  {
   "cell_type": "markdown",
   "metadata": {
    "id": "6QNP4yx2xHkT"
   },
   "source": [
    "### Insight 3 Explanation\n",
    "\n",
    "Insert explanation here"
   ]
  },
  {
   "cell_type": "code",
   "execution_count": null,
   "metadata": {
    "id": "LUWgj50BwwKN"
   },
   "outputs": [],
   "source": [
    "def insight4():\n",
    "  pass\n",
    "\n",
    "\n",
    "\n",
    "\n",
    "\n",
    "############ Function Call ############\n",
    "insight4()"
   ]
  },
  {
   "cell_type": "markdown",
   "metadata": {
    "id": "4Tv4xPG8xIIh"
   },
   "source": [
    "### Insight 4 Explanation\n",
    "\n",
    "Insert explanation here"
   ]
  },
  {
   "cell_type": "code",
   "execution_count": null,
   "metadata": {
    "id": "-2YUtUESwwgv"
   },
   "outputs": [],
   "source": [
    "def insight5():\n",
    "  pass\n",
    "\n",
    "\n",
    "\n",
    "\n",
    "\n",
    "############ Function Call ############\n",
    "insight5()"
   ]
  },
  {
   "cell_type": "markdown",
   "metadata": {
    "id": "JabcFGP9xIyn"
   },
   "source": [
    "### Insight 5 Explanation\n",
    "\n",
    "Insert explanation here"
   ]
  },
  {
   "cell_type": "markdown",
   "metadata": {
    "id": "xN58r5MNxN4m"
   },
   "source": [
    "## Data Visualizations"
   ]
  },
  {
   "cell_type": "code",
   "execution_count": null,
   "metadata": {
    "id": "stKXZGSnxS0f"
   },
   "outputs": [],
   "source": [
    "def visual1():\n",
    "  pass\n",
    "\n",
    "\n",
    "\n",
    "\n",
    "\n",
    "############ Function Call ############\n",
    "visual1()"
   ]
  },
  {
   "cell_type": "markdown",
   "metadata": {
    "id": "-CDB8hXwxgSB"
   },
   "source": [
    "### Visualization 1 Explanation\n",
    "\n",
    "Insert explanation here"
   ]
  },
  {
   "cell_type": "code",
   "execution_count": null,
   "metadata": {
    "id": "vACib_mBxW0E"
   },
   "outputs": [],
   "source": [
    "def visual2():\n",
    "  pass\n",
    "\n",
    "\n",
    "\n",
    "\n",
    "\n",
    "############ Function Call ############\n",
    "visual2()"
   ]
  },
  {
   "cell_type": "markdown",
   "metadata": {
    "id": "hbq6zDSuxg3b"
   },
   "source": [
    "### Visualization 2 Explanation\n",
    "\n",
    "Insert explanation here"
   ]
  },
  {
   "cell_type": "code",
   "execution_count": null,
   "metadata": {
    "id": "mOyKClx1xXOt"
   },
   "outputs": [],
   "source": [
    "def visual3():\n",
    "  pass\n",
    "\n",
    "\n",
    "\n",
    "\n",
    "\n",
    "############ Function Call ############\n",
    "visual3()"
   ]
  },
  {
   "cell_type": "markdown",
   "metadata": {
    "id": "YLZvX6Plxhhs"
   },
   "source": [
    "### Visualization 3 Explanation\n",
    "\n",
    "Insert explanation here"
   ]
  },
  {
   "cell_type": "markdown",
   "metadata": {
    "id": "kd74HqEPx8zh"
   },
   "source": [
    "# Cited Sources\n",
    "\n",
    "If you used any additional sources to complete your Data Analysis section, list them here:\n",
    "\n",
    "\n",
    "*   Example Module Documentation\n",
    "*   Example Stack Overflow Assistance\n",
    "\n"
   ]
  },
  {
   "cell_type": "markdown",
   "metadata": {
    "id": "iuYbFQplyXK2"
   },
   "source": [
    "# Graphical User Interface (GUI) Implementation\n",
    "If you decide to create a GUI for Phase II, please create a separate Python file (.py) to build your GUI. You must submit both the completed PhaseII.ipynb and your Python GUI file."
   ]
  },
  {
   "cell_type": "markdown",
   "metadata": {
    "id": "mZENd-i9cinj"
   },
   "source": [
    "# Submission\n",
    "\n",
    "Prior to submitting your notebook to Gradescope, be sure to <b>run all functions within this file</b>. We will not run your functions ourselves, so we must see your outputs within this file in order to receive full credit.\n"
   ]
  }
 ],
 "metadata": {
  "colab": {
   "collapsed_sections": [],
   "name": "PhaseIII.ipynb",
   "provenance": []
  },
  "kernelspec": {
   "display_name": "Python 3 (ipykernel)",
   "language": "python",
   "name": "python3"
  },
  "language_info": {
   "codemirror_mode": {
    "name": "ipython",
    "version": 3
   },
   "file_extension": ".py",
   "mimetype": "text/x-python",
   "name": "python",
   "nbconvert_exporter": "python",
   "pygments_lexer": "ipython3",
   "version": "3.8.5"
  }
 },
 "nbformat": 4,
 "nbformat_minor": 1
}
